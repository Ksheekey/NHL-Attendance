{
 "cells": [
  {
   "cell_type": "code",
   "execution_count": 1,
   "metadata": {},
   "outputs": [],
   "source": [
    "# Dependencies\n",
    "\n",
    "from pprint import pprint\n",
    "import pandas as pd\n",
    "import numpy as np\n",
    "import time\n",
    "import timeit\n",
    "import json\n",
    "\n",
    "# start program run timer\n",
    "start = timeit.default_timer()"
   ]
  },
  {
   "cell_type": "code",
   "execution_count": 2,
   "metadata": {},
   "outputs": [],
   "source": [
    "# Path for URL\n",
    "urlList = []\n",
    "yearList = []\n",
    "year = 2001\n",
    "\n",
    "url = f'https://www.espn.com/nhl/attendance'\n",
    "path = \"/_/year/\"\n",
    "\n",
    "# Make list of URL's and year's\n",
    "while year < 2022:\n",
    "    yearList.append(year)\n",
    "    urlList.append(f'{url}{path}{year}')\n",
    "    year+=1\n",
    "urlList.append(url)\n",
    "yearList.append(2022)\n",
    "\n",
    "#removing 2005 for the lockout in 2004-2005\n",
    "urlList.remove('https://www.espn.com/nhl/attendance/_/year/2005')\n",
    "yearList.remove(2005)\n",
    "#removing 2021 for the covid regulations not allowing fans into the stadium\n",
    "urlList.remove('https://www.espn.com/nhl/attendance/_/year/2021')\n",
    "yearList.remove(2021)"
   ]
  },
  {
   "cell_type": "code",
   "execution_count": 5,
   "metadata": {},
   "outputs": [
    {
     "name": "stdout",
     "output_type": "stream",
     "text": [
      "Time to run: 6.922258459000001\n"
     ]
    }
   ],
   "source": [
    "# stop program run timer\n",
    "stop = timeit.default_timer()\n",
    "\n",
    "# view how long it took to run\n",
    "# try and find improvments to speed up later\n",
    "print('Time to run:', stop - start)"
   ]
  },
  {
   "cell_type": "code",
   "execution_count": 3,
   "metadata": {},
   "outputs": [],
   "source": [
    "# ATTENDANCE ONLY\n",
    "\n",
    "#setting an empty list and yearly start point\n",
    "totals = []\n",
    "x = 0\n",
    "\n",
    "# looping through the list of URL's to build a LoD\n",
    "for i in urlList:\n",
    "    borck = []\n",
    "    totals.append({yearList[x]:borck})\n",
    "    tables = pd.read_html(i, header=[1])\n",
    "    df = tables[0]\n",
    "    A = df[['TEAM','AVG']]\n",
    "    for b, c in A.iterrows():\n",
    "        borck.append(\n",
    "            {\"team\" : c[0],\n",
    "                \"avg_att\" : c[1]}\n",
    "            )\n",
    "    x+=1\n",
    "    \n",
    "with open('NHLattOnly.json', 'w') as f:\n",
    "    json.dump(totals, f)"
   ]
  }
 ],
 "metadata": {
  "kernelspec": {
   "display_name": "Python 3",
   "language": "python",
   "name": "python3"
  },
  "language_info": {
   "codemirror_mode": {
    "name": "ipython",
    "version": 3
   },
   "file_extension": ".py",
   "mimetype": "text/x-python",
   "name": "python",
   "nbconvert_exporter": "python",
   "pygments_lexer": "ipython3",
   "version": "3.8.5"
  }
 },
 "nbformat": 4,
 "nbformat_minor": 4
}
