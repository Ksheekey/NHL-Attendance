{
 "cells": [
  {
   "cell_type": "code",
   "execution_count": null,
   "metadata": {},
   "outputs": [],
   "source": [
    "# Dependencies\n",
    "\n",
    "import pandas as pd"
   ]
  },
  {
   "cell_type": "code",
   "execution_count": null,
   "metadata": {},
   "outputs": [],
   "source": [
    "# Path for URL\n",
    "ATTurlList = []\n",
    "yearList = []\n",
    "STurlList = []\n",
    "year = 2003\n",
    "\n",
    "# Attedance URL's\n",
    "url = f'https://www.espn.com/nhl/attendance'\n",
    "path = \"/_/year/\"\n",
    "\n",
    "# Standings URL's\n",
    "url_2_1 = f'https://www.espn.com/nhl/standings/_/'\n",
    "url_2_2 = f'season/'\n",
    "# url_2_3 would be the year variable, so just use year instead\n",
    "url_2_4 = f'/'\n",
    "url_2_5 = f'group/league'\n",
    "\n",
    "# Make list of URL's and year's\n",
    "while year < 2022:\n",
    "    yearList.append(year)\n",
    "    ATTurlList.append(f'{url}{path}{year}')\n",
    "    STurlList.append(f'{url_2_1}{url_2_2}{year}{url_2_4}{url_2_5}')\n",
    "    year+=1\n",
    "ATTurlList.append(url)\n",
    "STurlList.append(f'{url_2_1}{url_2_5}')\n",
    "yearList.append(2022)\n",
    "\n",
    "#removing 2005 for the lockout in 2004-2005\n",
    "ATTurlList.remove('https://www.espn.com/nhl/attendance/_/year/2005')\n",
    "STurlList.remove('https://www.espn.com/nhl/standings/_/season/2005/group/league')\n",
    "yearList.remove(2005)\n",
    "#removing 2021 for the covid regulations not allowing fans into the stadium\n",
    "ATTurlList.remove('https://www.espn.com/nhl/attendance/_/year/2021')\n",
    "STurlList.remove('https://www.espn.com/nhl/standings/_/season/2021/group/league')\n",
    "yearList.remove(2021)"
   ]
  },
  {
   "cell_type": "code",
   "execution_count": null,
   "metadata": {
    "scrolled": true
   },
   "outputs": [],
   "source": [
    "x = 0\n",
    "for a in STurlList:\n",
    "    tables2 = pd.read_html(a, header=[0])\n",
    "\n",
    "    STList = []\n",
    "\n",
    "    for i in tables2[0]:\n",
    "        STList.append(i)\n",
    "    for i in tables2[0][STList[0]]:\n",
    "        STList.append(i)\n",
    "\n",
    "    df2 = pd.DataFrame(STList)\n",
    "    df2.columns = ['Team']\n",
    "    df3 = tables2[1]\n",
    "    df4 = df2.join(df3)\n",
    "    df4 = df4[['Team','PTS']]\n",
    "    \n",
    "    # save locally to CSV\n",
    "    df4.to_csv(f'STdf4{yearList[x]}.csv', index=False)\n",
    "    x+=1"
   ]
  }
 ],
 "metadata": {
  "kernelspec": {
   "display_name": "Python 3",
   "language": "python",
   "name": "python3"
  },
  "language_info": {
   "codemirror_mode": {
    "name": "ipython",
    "version": 3
   },
   "file_extension": ".py",
   "mimetype": "text/x-python",
   "name": "python",
   "nbconvert_exporter": "python",
   "pygments_lexer": "ipython3",
   "version": "3.8.5"
  }
 },
 "nbformat": 4,
 "nbformat_minor": 4
}
