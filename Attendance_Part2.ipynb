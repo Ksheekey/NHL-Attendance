{
 "cells": [
  {
   "cell_type": "code",
   "execution_count": 1,
   "metadata": {},
   "outputs": [
    {
     "name": "stdout",
     "output_type": "stream",
     "text": [
      "importing Jupyter notebook from Attendance_Part1.ipynb\n"
     ]
    }
   ],
   "source": [
    "# Dependencies\n",
    "\n",
    "import pandas as pd\n",
    "import csv\n",
    "import import_ipynb as ipynb\n",
    "from Attendance_Part1 import ATTurlList, yearList, STurlList"
   ]
  },
  {
   "cell_type": "code",
   "execution_count": 2,
   "metadata": {},
   "outputs": [
    {
     "data": {
      "text/html": [
       "<div>\n",
       "<style scoped>\n",
       "    .dataframe tbody tr th:only-of-type {\n",
       "        vertical-align: middle;\n",
       "    }\n",
       "\n",
       "    .dataframe tbody tr th {\n",
       "        vertical-align: top;\n",
       "    }\n",
       "\n",
       "    .dataframe thead th {\n",
       "        text-align: right;\n",
       "    }\n",
       "</style>\n",
       "<table border=\"1\" class=\"dataframe\">\n",
       "  <thead>\n",
       "    <tr style=\"text-align: right;\">\n",
       "      <th></th>\n",
       "      <th>TEAM</th>\n",
       "      <th>AVG</th>\n",
       "      <th>PTS</th>\n",
       "      <th>Year</th>\n",
       "      <th>SeasonPtsRank</th>\n",
       "    </tr>\n",
       "  </thead>\n",
       "  <tbody>\n",
       "    <tr>\n",
       "      <th>0</th>\n",
       "      <td>Montreal</td>\n",
       "      <td>20672</td>\n",
       "      <td>77</td>\n",
       "      <td>2003</td>\n",
       "      <td>16</td>\n",
       "    </tr>\n",
       "    <tr>\n",
       "      <th>1</th>\n",
       "      <td>Detroit</td>\n",
       "      <td>20058</td>\n",
       "      <td>110</td>\n",
       "      <td>2003</td>\n",
       "      <td>3</td>\n",
       "    </tr>\n",
       "    <tr>\n",
       "      <th>2</th>\n",
       "      <td>Philadelphia</td>\n",
       "      <td>19325</td>\n",
       "      <td>107</td>\n",
       "      <td>2003</td>\n",
       "      <td>5</td>\n",
       "    </tr>\n",
       "    <tr>\n",
       "      <th>3</th>\n",
       "      <td>St. Louis</td>\n",
       "      <td>18570</td>\n",
       "      <td>99</td>\n",
       "      <td>2003</td>\n",
       "      <td>8</td>\n",
       "    </tr>\n",
       "    <tr>\n",
       "      <th>4</th>\n",
       "      <td>Dallas</td>\n",
       "      <td>18532</td>\n",
       "      <td>111</td>\n",
       "      <td>2003</td>\n",
       "      <td>2</td>\n",
       "    </tr>\n",
       "  </tbody>\n",
       "</table>\n",
       "</div>"
      ],
      "text/plain": [
       "           TEAM    AVG  PTS  Year  SeasonPtsRank\n",
       "0      Montreal  20672   77  2003             16\n",
       "1       Detroit  20058  110  2003              3\n",
       "2  Philadelphia  19325  107  2003              5\n",
       "3     St. Louis  18570   99  2003              8\n",
       "4        Dallas  18532  111  2003              2"
      ]
     },
     "execution_count": 2,
     "metadata": {},
     "output_type": "execute_result"
    }
   ],
   "source": [
    "info = []\n",
    "x = 0\n",
    "\n",
    "for i in ATTurlList:\n",
    "    tables = pd.read_html(i, header=[1])\n",
    "    df = tables[0]\n",
    "    A = df[['TEAM','AVG']]\n",
    "    CSV = pd.read_csv(f'./csv/STdf4{yearList[x]}.csv')\n",
    "    CSV.rename(columns={'Team': 'TEAM'}, inplace=True)\n",
    "    dfJ = pd.merge(A,CSV,on='TEAM')\n",
    "    dfJ['Year']=yearList[x]\n",
    "    dfJ['SeasonPtsRank'] = dfJ['PTS'].rank(method='dense', ascending = False).astype(int)\n",
    "    info.append(dfJ)\n",
    "    x+=1\n",
    "\n",
    "frame = pd.concat(info, axis=0, ignore_index=True)\n",
    "frame.head(5)"
   ]
  },
  {
   "cell_type": "code",
   "execution_count": 3,
   "metadata": {},
   "outputs": [
    {
     "data": {
      "text/plain": [
       "TEAM             object\n",
       "AVG               int64\n",
       "PTS               int64\n",
       "Year              int64\n",
       "SeasonPtsRank     int64\n",
       "dtype: object"
      ]
     },
     "execution_count": 3,
     "metadata": {},
     "output_type": "execute_result"
    }
   ],
   "source": [
    "frame['AVG'] = pd.to_numeric(frame['AVG'],errors='coerce')\n",
    "frame['PTS'] = pd.to_numeric(frame['PTS'],errors='coerce')\n",
    "frame['Year'] = pd.to_numeric(frame['Year'],errors='coerce')\n",
    "frame['SeasonPtsRank'] = frame['SeasonPtsRank'].apply(np.int64)\n",
    "\n",
    "frame.dtypes"
   ]
  },
  {
   "cell_type": "code",
   "execution_count": 4,
   "metadata": {},
   "outputs": [],
   "source": [
    "frame.to_csv(f'ATTfullData.csv', index=False)"
   ]
  }
 ],
 "metadata": {
  "kernelspec": {
   "display_name": "Python 3",
   "language": "python",
   "name": "python3"
  },
  "language_info": {
   "codemirror_mode": {
    "name": "ipython",
    "version": 3
   },
   "file_extension": ".py",
   "mimetype": "text/x-python",
   "name": "python",
   "nbconvert_exporter": "python",
   "pygments_lexer": "ipython3",
   "version": "3.8.5"
  }
 },
 "nbformat": 4,
 "nbformat_minor": 4
}
