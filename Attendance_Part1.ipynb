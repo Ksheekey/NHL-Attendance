{
 "cells": [
  {
   "cell_type": "code",
   "execution_count": 1,
   "metadata": {},
   "outputs": [],
   "source": [
    "# Dependencies\n",
    "\n",
    "import pandas as pd"
   ]
  },
  {
   "cell_type": "code",
   "execution_count": 2,
   "metadata": {},
   "outputs": [],
   "source": [
    "# Path for URL\n",
    "ATTurlList = []\n",
    "yearList = []\n",
    "STurlList = []\n",
    "year = 2003\n",
    "\n",
    "# Attedance URL's\n",
    "url = f'https://www.espn.com/nhl/attendance'\n",
    "path = \"/_/year/\"\n",
    "\n",
    "# Standings URL's\n",
    "url_2_1 = f'https://www.espn.com/nhl/standings/_/'\n",
    "url_2_2 = f'season/'\n",
    "# url_2_3 would be the year variable, so just use year instead\n",
    "url_2_4 = f'/'\n",
    "url_2_5 = f'group/league'\n",
    "\n",
    "# Make list of URL's and year's\n",
    "while year < 2022:\n",
    "    yearList.append(year)\n",
    "    ATTurlList.append(f'{url}{path}{year}')\n",
    "    STurlList.append(f'{url_2_1}{url_2_2}{year}{url_2_4}{url_2_5}')\n",
    "    year+=1\n",
    "ATTurlList.append(url)\n",
    "STurlList.append(f'{url_2_1}{url_2_5}')\n",
    "yearList.append(2022)\n",
    "\n",
    "#removing 2005 for the lockout in 2004-2005\n",
    "ATTurlList.remove('https://www.espn.com/nhl/attendance/_/year/2005')\n",
    "STurlList.remove('https://www.espn.com/nhl/standings/_/season/2005/group/league')\n",
    "yearList.remove(2005)\n",
    "#removing 2021 for the covid regulations not allowing fans into the stadium\n",
    "ATTurlList.remove('https://www.espn.com/nhl/attendance/_/year/2021')\n",
    "STurlList.remove('https://www.espn.com/nhl/standings/_/season/2021/group/league')\n",
    "yearList.remove(2021)"
   ]
  },
  {
   "cell_type": "code",
   "execution_count": 6,
   "metadata": {
    "scrolled": true
   },
   "outputs": [
    {
     "data": {
      "text/plain": [
       "['* --OTTOttawa Senators',\n",
       " 'z --DALDallas Stars',\n",
       " 'y --DETDetroit Red Wings',\n",
       " 'y --NJNew Jersey Devils',\n",
       " 'x --PHIPhiladelphia Flyers',\n",
       " 'y --COLColorado Avalanche',\n",
       " 'x --VANVancouver Canucks',\n",
       " 'x --STLSt. Louis Blues',\n",
       " 'x --TORToronto Maple Leafs',\n",
       " 'x --MINMinnesota Wild',\n",
       " 'x --ANAAnaheim Ducks',\n",
       " 'y --TBTampa Bay Lightning',\n",
       " 'x --WSHWashington Capitals',\n",
       " 'x --EDMEdmonton Oilers',\n",
       " 'x --BOSBoston Bruins',\n",
       " 'x --NYINew York Islanders',\n",
       " 'CHIChicago Blackhawks',\n",
       " 'LALos Angeles Kings',\n",
       " 'NYRNew York Rangers',\n",
       " 'PHXArizona Coyotes',\n",
       " 'MTLMontreal Canadiens',\n",
       " 'CGYCalgary Flames',\n",
       " 'ATLWinnipeg Jets',\n",
       " 'NSHNashville Predators',\n",
       " 'SJSan Jose Sharks',\n",
       " 'BUFBuffalo Sabres',\n",
       " 'FLAFlorida Panthers',\n",
       " 'CBJColumbus Blue Jackets',\n",
       " 'PITPittsburgh Penguins',\n",
       " 'CARCarolina Hurricanes']"
      ]
     },
     "execution_count": 6,
     "metadata": {},
     "output_type": "execute_result"
    }
   ],
   "source": [
    "x = 0\n",
    "for a in STurlList:\n",
    "    tables2 = pd.read_html(a, header=[0])\n",
    "\n",
    "    STList = []\n",
    "\n",
    "    for i in tables2[0]:\n",
    "        STList.append(i)\n",
    "    for i in tables2[0][STList[0]]:\n",
    "        STList.append(i)\n",
    "\n",
    "#     df2 = pd.DataFrame(STList)\n",
    "#     df2.columns = ['Team']\n",
    "#     df3 = tables2[1]\n",
    "#     df4 = df2.join(df3)\n",
    "#     df4 = df4[['Team','PTS']]\n",
    "    \n",
    "#     # save locally to CSV\n",
    "#     df4.to_csv(f'STdf4{yearList[x]}.csv', index=False)\n",
    "    x+=1\n",
    "    break\n",
    "    \n",
    "STList"
   ]
  },
  {
   "cell_type": "code",
   "execution_count": 3,
   "metadata": {},
   "outputs": [
    {
     "data": {
      "text/plain": [
       "['https://www.espn.com/nhl/attendance/_/year/2003',\n",
       " 'https://www.espn.com/nhl/attendance/_/year/2004',\n",
       " 'https://www.espn.com/nhl/attendance/_/year/2006',\n",
       " 'https://www.espn.com/nhl/attendance/_/year/2007',\n",
       " 'https://www.espn.com/nhl/attendance/_/year/2008',\n",
       " 'https://www.espn.com/nhl/attendance/_/year/2009',\n",
       " 'https://www.espn.com/nhl/attendance/_/year/2010',\n",
       " 'https://www.espn.com/nhl/attendance/_/year/2011',\n",
       " 'https://www.espn.com/nhl/attendance/_/year/2012',\n",
       " 'https://www.espn.com/nhl/attendance/_/year/2013',\n",
       " 'https://www.espn.com/nhl/attendance/_/year/2014',\n",
       " 'https://www.espn.com/nhl/attendance/_/year/2015',\n",
       " 'https://www.espn.com/nhl/attendance/_/year/2016',\n",
       " 'https://www.espn.com/nhl/attendance/_/year/2017',\n",
       " 'https://www.espn.com/nhl/attendance/_/year/2018',\n",
       " 'https://www.espn.com/nhl/attendance/_/year/2019',\n",
       " 'https://www.espn.com/nhl/attendance/_/year/2020',\n",
       " 'https://www.espn.com/nhl/attendance']"
      ]
     },
     "execution_count": 3,
     "metadata": {},
     "output_type": "execute_result"
    }
   ],
   "source": [
    "ATTurlList"
   ]
  },
  {
   "cell_type": "code",
   "execution_count": 4,
   "metadata": {},
   "outputs": [
    {
     "data": {
      "text/plain": [
       "[2003,\n",
       " 2004,\n",
       " 2006,\n",
       " 2007,\n",
       " 2008,\n",
       " 2009,\n",
       " 2010,\n",
       " 2011,\n",
       " 2012,\n",
       " 2013,\n",
       " 2014,\n",
       " 2015,\n",
       " 2016,\n",
       " 2017,\n",
       " 2018,\n",
       " 2019,\n",
       " 2020,\n",
       " 2022]"
      ]
     },
     "execution_count": 4,
     "metadata": {},
     "output_type": "execute_result"
    }
   ],
   "source": [
    "yearList"
   ]
  },
  {
   "cell_type": "code",
   "execution_count": 5,
   "metadata": {},
   "outputs": [
    {
     "data": {
      "text/plain": [
       "['https://www.espn.com/nhl/standings/_/season/2003/group/league',\n",
       " 'https://www.espn.com/nhl/standings/_/season/2004/group/league',\n",
       " 'https://www.espn.com/nhl/standings/_/season/2006/group/league',\n",
       " 'https://www.espn.com/nhl/standings/_/season/2007/group/league',\n",
       " 'https://www.espn.com/nhl/standings/_/season/2008/group/league',\n",
       " 'https://www.espn.com/nhl/standings/_/season/2009/group/league',\n",
       " 'https://www.espn.com/nhl/standings/_/season/2010/group/league',\n",
       " 'https://www.espn.com/nhl/standings/_/season/2011/group/league',\n",
       " 'https://www.espn.com/nhl/standings/_/season/2012/group/league',\n",
       " 'https://www.espn.com/nhl/standings/_/season/2013/group/league',\n",
       " 'https://www.espn.com/nhl/standings/_/season/2014/group/league',\n",
       " 'https://www.espn.com/nhl/standings/_/season/2015/group/league',\n",
       " 'https://www.espn.com/nhl/standings/_/season/2016/group/league',\n",
       " 'https://www.espn.com/nhl/standings/_/season/2017/group/league',\n",
       " 'https://www.espn.com/nhl/standings/_/season/2018/group/league',\n",
       " 'https://www.espn.com/nhl/standings/_/season/2019/group/league',\n",
       " 'https://www.espn.com/nhl/standings/_/season/2020/group/league',\n",
       " 'https://www.espn.com/nhl/standings/_/group/league']"
      ]
     },
     "execution_count": 5,
     "metadata": {},
     "output_type": "execute_result"
    }
   ],
   "source": [
    "STurlList"
   ]
  },
  {
   "cell_type": "code",
   "execution_count": null,
   "metadata": {},
   "outputs": [],
   "source": []
  }
 ],
 "metadata": {
  "kernelspec": {
   "display_name": "Python 3",
   "language": "python",
   "name": "python3"
  },
  "language_info": {
   "codemirror_mode": {
    "name": "ipython",
    "version": 3
   },
   "file_extension": ".py",
   "mimetype": "text/x-python",
   "name": "python",
   "nbconvert_exporter": "python",
   "pygments_lexer": "ipython3",
   "version": "3.8.5"
  }
 },
 "nbformat": 4,
 "nbformat_minor": 4
}
